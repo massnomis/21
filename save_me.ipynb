{
 "cells": [
  {
   "cell_type": "code",
   "execution_count": 181,
   "metadata": {
    "vscode": {
     "languageId": "ruby"
    }
   },
   "outputs": [
    {
     "data": {
      "text/html": [
       "<div>\n",
       "<style scoped>\n",
       "    .dataframe tbody tr th:only-of-type {\n",
       "        vertical-align: middle;\n",
       "    }\n",
       "\n",
       "    .dataframe tbody tr th {\n",
       "        vertical-align: top;\n",
       "    }\n",
       "\n",
       "    .dataframe thead th {\n",
       "        text-align: right;\n",
       "    }\n",
       "</style>\n",
       "<table border=\"1\" class=\"dataframe\">\n",
       "  <thead>\n",
       "    <tr style=\"text-align: right;\">\n",
       "      <th></th>\n",
       "      <th>price</th>\n",
       "      <th>size</th>\n",
       "      <th>accum</th>\n",
       "      <th>accum_price</th>\n",
       "      <th>ac_avg_p</th>\n",
       "      <th>cash_equic</th>\n",
       "      <th>pre_cash_equiv</th>\n",
       "      <th>pre_price</th>\n",
       "      <th>pre_accum_price</th>\n",
       "      <th>pre_accum_avg_price</th>\n",
       "      <th>lag_price_sub</th>\n",
       "      <th>lag_accum_price_sub</th>\n",
       "      <th>lag_cash_equiv_sub</th>\n",
       "      <th>lag_accum_avg_price_sub</th>\n",
       "      <th>slope_cash_equiv_avg_price</th>\n",
       "      <th>slope_cash_equiv_price</th>\n",
       "      <th>slope_cash_equiv_avg_price_b</th>\n",
       "      <th>slope_cash_equiv_price_b</th>\n",
       "    </tr>\n",
       "  </thead>\n",
       "  <tbody>\n",
       "    <tr>\n",
       "      <th>0</th>\n",
       "      <td>389.75</td>\n",
       "      <td>18.20</td>\n",
       "      <td>18.20</td>\n",
       "      <td>7093.4500</td>\n",
       "      <td>389.750000</td>\n",
       "      <td>7093.4500</td>\n",
       "      <td>0.0000</td>\n",
       "      <td>0.00</td>\n",
       "      <td>0.0000</td>\n",
       "      <td>0.000000</td>\n",
       "      <td>0.00</td>\n",
       "      <td>0.0000</td>\n",
       "      <td>0.0000</td>\n",
       "      <td>0.000000</td>\n",
       "      <td>NaN</td>\n",
       "      <td>NaN</td>\n",
       "      <td>NaN</td>\n",
       "      <td>NaN</td>\n",
       "    </tr>\n",
       "    <tr>\n",
       "      <th>1</th>\n",
       "      <td>389.42</td>\n",
       "      <td>394.26</td>\n",
       "      <td>412.46</td>\n",
       "      <td>153532.7292</td>\n",
       "      <td>389.434561</td>\n",
       "      <td>160626.1792</td>\n",
       "      <td>7093.4500</td>\n",
       "      <td>389.75</td>\n",
       "      <td>7093.4500</td>\n",
       "      <td>389.750000</td>\n",
       "      <td>0.33</td>\n",
       "      <td>146439.2792</td>\n",
       "      <td>153532.7292</td>\n",
       "      <td>-0.315439</td>\n",
       "      <td>-2.054537e-06</td>\n",
       "      <td>2.149379e-06</td>\n",
       "      <td>5.680120</td>\n",
       "      <td>-5.942328</td>\n",
       "    </tr>\n",
       "    <tr>\n",
       "      <th>2</th>\n",
       "      <td>389.40</td>\n",
       "      <td>0.00</td>\n",
       "      <td>412.46</td>\n",
       "      <td>0.0000</td>\n",
       "      <td>389.434561</td>\n",
       "      <td>160626.1792</td>\n",
       "      <td>160626.1792</td>\n",
       "      <td>389.42</td>\n",
       "      <td>153532.7292</td>\n",
       "      <td>389.434561</td>\n",
       "      <td>0.02</td>\n",
       "      <td>-153532.7292</td>\n",
       "      <td>0.0000</td>\n",
       "      <td>0.000000</td>\n",
       "      <td>NaN</td>\n",
       "      <td>inf</td>\n",
       "      <td>NaN</td>\n",
       "      <td>-inf</td>\n",
       "    </tr>\n",
       "    <tr>\n",
       "      <th>3</th>\n",
       "      <td>389.38</td>\n",
       "      <td>200.00</td>\n",
       "      <td>612.46</td>\n",
       "      <td>77876.0000</td>\n",
       "      <td>389.416744</td>\n",
       "      <td>238502.1792</td>\n",
       "      <td>160626.1792</td>\n",
       "      <td>389.40</td>\n",
       "      <td>0.0000</td>\n",
       "      <td>389.434561</td>\n",
       "      <td>0.02</td>\n",
       "      <td>77876.0000</td>\n",
       "      <td>77876.0000</td>\n",
       "      <td>-0.017817</td>\n",
       "      <td>-2.287881e-07</td>\n",
       "      <td>2.568185e-07</td>\n",
       "      <td>14.311469</td>\n",
       "      <td>-16.063443</td>\n",
       "    </tr>\n",
       "  </tbody>\n",
       "</table>\n",
       "</div>"
      ],
      "text/plain": [
       "    price    size   accum  accum_price    ac_avg_p   cash_equic  \\\n",
       "0  389.75   18.20   18.20    7093.4500  389.750000    7093.4500   \n",
       "1  389.42  394.26  412.46  153532.7292  389.434561  160626.1792   \n",
       "2  389.40    0.00  412.46       0.0000  389.434561  160626.1792   \n",
       "3  389.38  200.00  612.46   77876.0000  389.416744  238502.1792   \n",
       "\n",
       "   pre_cash_equiv  pre_price  pre_accum_price  pre_accum_avg_price  \\\n",
       "0          0.0000       0.00           0.0000             0.000000   \n",
       "1       7093.4500     389.75        7093.4500           389.750000   \n",
       "2     160626.1792     389.42      153532.7292           389.434561   \n",
       "3     160626.1792     389.40           0.0000           389.434561   \n",
       "\n",
       "   lag_price_sub  lag_accum_price_sub  lag_cash_equiv_sub  \\\n",
       "0           0.00               0.0000              0.0000   \n",
       "1           0.33          146439.2792         153532.7292   \n",
       "2           0.02         -153532.7292              0.0000   \n",
       "3           0.02           77876.0000          77876.0000   \n",
       "\n",
       "   lag_accum_avg_price_sub  slope_cash_equiv_avg_price  \\\n",
       "0                 0.000000                         NaN   \n",
       "1                -0.315439               -2.054537e-06   \n",
       "2                 0.000000                         NaN   \n",
       "3                -0.017817               -2.287881e-07   \n",
       "\n",
       "   slope_cash_equiv_price  slope_cash_equiv_avg_price_b  \\\n",
       "0                     NaN                           NaN   \n",
       "1            2.149379e-06                      5.680120   \n",
       "2                     inf                           NaN   \n",
       "3            2.568185e-07                     14.311469   \n",
       "\n",
       "   slope_cash_equiv_price_b  \n",
       "0                       NaN  \n",
       "1                 -5.942328  \n",
       "2                      -inf  \n",
       "3                -16.063443  "
      ]
     },
     "execution_count": 181,
     "metadata": {},
     "output_type": "execute_result"
    }
   ],
   "source": [
    "import pandas as pd\n",
    "import numpy as np\n",
    "from scipy import stats\n",
    "\n",
    "# \"\"\"import yylann.csv as df\"\"\"\n",
    "df = pd.read_csv(\"yylann.csv\")\n",
    "df = df.astype(float)\n",
    "df['price'] = pd.to_numeric(df['price'])\n",
    "df['cash_equic'] = pd.to_numeric(df['cash_equic'])\n",
    "df['accum_price'] = pd.to_numeric(df['accum_price'])\n",
    "\n",
    "\n",
    "\n",
    "df['pre_cash_equiv'] = df['cash_equic'].shift(1)\n",
    "df['pre_price'] = df['price'].shift(1)\n",
    "df['pre_accum_price'] = df['accum_price'].shift(1)\n",
    "df['pre_accum_avg_price'] = df['ac_avg_p'].shift(1)\n",
    "df['lag_price_sub'] = df['price'].shift(1)-df['price']\n",
    "df['lag_accum_price_sub'] = df['accum_price']-df['pre_accum_price']\n",
    "df['lag_cash_equiv_sub'] = df['cash_equic']-df['pre_cash_equiv']\n",
    "df['lag_accum_avg_price_sub'] = df['ac_avg_p']-df['pre_accum_avg_price']\n",
    "df = df.replace(np.nan, 0, regex=True)\n",
    "\n",
    "\n",
    "\n",
    "\n",
    "\n",
    "x = 10000\n",
    "\n",
    "df['slope_cash_equiv_avg_price'] = df['lag_accum_avg_price_sub']/df['lag_cash_equiv_sub']\n",
    "df['slope_cash_equiv_price'] = df['lag_price_sub']/df['lag_cash_equiv_sub']\n",
    "df['slope_cash_equiv_avg_price_b'] = df['slope_cash_equiv_avg_price'] * df['pre_accum_avg_price'] * df['pre_cash_equiv'] * -1\n",
    "df['slope_cash_equiv_price_b'] = df['slope_cash_equiv_price'] * df['pre_price'] * df['pre_cash_equiv'] * -1\n",
    "# df['10k1'] \n",
    "# df['10k2']\n",
    "df"
   ]
  },
  {
   "cell_type": "code",
   "execution_count": 295,
   "metadata": {
    "vscode": {
     "languageId": "ruby"
    }
   },
   "outputs": [
    {
     "data": {
      "text/plain": [
       "0.34524653642271685"
      ]
     },
     "execution_count": 295,
     "metadata": {},
     "output_type": "execute_result"
    }
   ],
   "source": [
    "m = 2.149379e-06\t\n",
    "x = 10000\n",
    "b = -5.942328\n",
    "\n",
    "q = (160626.1792*m)\n",
    "q\n",
    "\n",
    "\n"
   ]
  },
  {
   "cell_type": "code",
   "execution_count": 296,
   "metadata": {
    "vscode": {
     "languageId": "ruby"
    }
   },
   "outputs": [
    {
     "name": "stdout",
     "output_type": "stream",
     "text": [
      "[1658391997, '0xc2132d05d31c914a87c6611c10748aeb04b58e8f', 850113, 7, '0x0d500b1d8e8ef31e21c99d1db9a6444d3adf1270', 992570000000000000]\n"
     ]
    }
   ],
   "source": [
    "# import asyncio\n",
    "import json\n",
    "# from numpy import place\n",
    "# import streamlit as st\n",
    "# from web3 import Web3\n",
    "# import plotly.express as px\n",
    "# from web3.middleware import geth_poa_middleware # only needed for PoA networks like BSC\n",
    "import requests\n",
    "# from websockets import connect\n",
    "from eth_abi import decode_single, decode_abi\n",
    "import math\n",
    "# from datetime import datetime\n",
    "# import pandas as pd\n",
    "number = '0x0000000000000000000000000000000000000000000000000000000062d90dbd000000000000000000000000c2132d05d31c914a87c6611c10748aeb04b58e8f00000000000000000000000000000000000000000000000000000000000cf8c100000000000000000000000000000000000000000000000000000000000000070000000000000000000000000d500b1d8e8ef31e21c99d1db9a6444d3adf12700000000000000000000000000000000000000000000000000dc65127f8b5a000'\n",
    "number = number[2:]\n",
    "number = decode_single('(uint256,address,uint256,uint256,address,uint256)',bytearray.fromhex(number))\n",
    "\n",
    "print(list(number))"
   ]
  },
  {
   "cell_type": "code",
   "execution_count": 297,
   "metadata": {
    "vscode": {
     "languageId": "ruby"
    }
   },
   "outputs": [
    {
     "name": "stdout",
     "output_type": "stream",
     "text": [
      "0000000000000000000000000000000000000000000000000000000062d91886000000000000000000000000c02aaa39b223fe8d0a0e5c4f27ead9083c756cc200000000000000000000000000000000000000000000000002caf6da9837ed100000000000000000000000000000000000000000000000000000000000000007000000000000000000000000dac17f958d2ee523a2206206994597c13d831ec70000000000000000000000000000000000000000000000000000000011f76e53\n"
     ]
    }
   ],
   "source": [
    "# Function: swap(string aggregatorId, address tokenFrom, uint256 amount, bytes data) ***\n",
    "\n",
    "\n",
    "number = '0x0000000000000000000000000000000000000000000000000000000062d91886000000000000000000000000c02aaa39b223fe8d0a0e5c4f27ead9083c756cc200000000000000000000000000000000000000000000000002caf6da9837ed100000000000000000000000000000000000000000000000000000000000000007000000000000000000000000dac17f958d2ee523a2206206994597c13d831ec70000000000000000000000000000000000000000000000000000000011f76e53'\n",
    "number = number[2:]\n",
    "# number = decode_single('(uint256,address,uint256,uint256,address,uint256)',bytearray.fromhex(number))\n",
    "print((number))"
   ]
  },
  {
   "cell_type": "code",
   "execution_count": 298,
   "metadata": {
    "vscode": {
     "languageId": "ruby"
    }
   },
   "outputs": [
    {
     "name": "stdout",
     "output_type": "stream",
     "text": [
      "[1658394758, '0xc02aaa39b223fe8d0a0e5c4f27ead9083c756cc2', 201244552088513808, 7, '0xdac17f958d2ee523a2206206994597c13d831ec7', 301428307]\n"
     ]
    }
   ],
   "source": [
    "# Function: swap(string aggregatorId, address tokenFrom, uint256 amount, bytes data) ***\n",
    "\n",
    "abi_dec = '(uint256,address,uint256,uint256,address,uint256)'\n",
    "number = '0x0000000000000000000000000000000000000000000000000000000062d91886000000000000000000000000c02aaa39b223fe8d0a0e5c4f27ead9083c756cc200000000000000000000000000000000000000000000000002caf6da9837ed100000000000000000000000000000000000000000000000000000000000000007000000000000000000000000dac17f958d2ee523a2206206994597c13d831ec70000000000000000000000000000000000000000000000000000000011f76e53'\n",
    "number = number[2:]\n",
    "number = decode_single(abi_dec,bytearray.fromhex(number))\n",
    "print(list(number))"
   ]
  },
  {
   "cell_type": "markdown",
   "metadata": {},
   "source": []
  },
  {
   "cell_type": "code",
   "execution_count": 299,
   "metadata": {
    "vscode": {
     "languageId": "ruby"
    }
   },
   "outputs": [],
   "source": [
    "# abi_dec = '(string,address,uint256,bytes)'\n",
    "\n",
    "# number = '0x5f5755290000000000000000000000000000000000000000000000000000000000000080000000000000000000000000dac17f958d2ee523a2206206994597c13d831ec70000000000000000000000000000000000000000000000000000000011f76e5300000000000000000000000000000000000000000000000000000000000000c00000000000000000000000000000000000000000000000000000000000000017616972737761704c696768743346656544796e616d696300000000000000000000000000000000000000000000000000000000000000000000000000000001a01b'\n",
    "# number = number[2:]\n",
    "\n",
    "# number = decode_single('(string,address,uint256)',bytearray.fromhex(number))\n",
    "# number\n"
   ]
  },
  {
   "cell_type": "code",
   "execution_count": 300,
   "metadata": {
    "vscode": {
     "languageId": "ruby"
    }
   },
   "outputs": [],
   "source": [
    "# abi_dec = '(uint256)'\n",
    "# # abi_dec = '(bytes)'\n",
    "# data = '0xa8dc30b66c6d4a8aac3d15925bfca09e42cac4a00c50f9949154b045088e2ac2'\n",
    "# data = data[2:]\n",
    "# print(data)\n",
    "# number = decode_single(abi_dec,bytearray.fromhex(data))\n",
    "# number"
   ]
  },
  {
   "cell_type": "code",
   "execution_count": 301,
   "metadata": {
    "vscode": {
     "languageId": "ruby"
    }
   },
   "outputs": [],
   "source": [
    "import sys\n",
    "topics = ['0xbeee1e6e7fe307ddcf84b0a16137a4430ad5e2480fc4f4a8e250ab56ccd7630d', '0x0f15df26153967931fbcb8c0d3b573946eced4ef196e2d07ec13f437ff36584e', '0x000000000000000000000000c6765a1cdc5515ef00ac594595b910be25c23dbe']\n",
    "a = ((topics[0][2:]))\n",
    "b = ((topics[1][2:]))\n",
    "# print(b)\n",
    "c = ((topics[2][2:]))\n",
    "\n",
    "exchanges = {\n",
    "'0xbd5c436f8c83379009c1962310b8347e561d1900906d3fe4075b1596f8955f88': \"oneInchV4FeeDynamic\",\n",
    "'0xa8dc30b66c6d4a8aac3d15925bfca09e42cac4a00c50f9949154b045088e2ac2': \"0xFeeDynamic\",\n",
    "'0x0f15df26153967931fbcb8c0d3b573946eced4ef196e2d07ec13f437ff36584e': 'Ithinkairswap'\n",
    "}\n",
    "# print(decode_single('(string)',bytearray.fromhex('0xa8dc30b66c6d4a8aac3d15925bfca09e42cac4a00c50f9949154b045088e2ac2')))\n",
    "# print(decode_single('(uint256)',bytearray.fromhex(c)))\n"
   ]
  },
  {
   "cell_type": "code",
   "execution_count": null,
   "metadata": {
    "vscode": {
     "languageId": "ruby"
    }
   },
   "outputs": [],
   "source": [
    "\n"
   ]
  }
 ],
 "metadata": {
  "kernelspec": {
   "display_name": "Python 3.9.13 64-bit",
   "language": "python",
   "name": "python3"
  },
  "language_info": {
   "codemirror_mode": {
    "name": "ipython",
    "version": 3
   },
   "file_extension": ".py",
   "mimetype": "text/x-python",
   "name": "python",
   "nbconvert_exporter": "python",
   "pygments_lexer": "ipython3",
   "version": "3.9.13"
  },
  "orig_nbformat": 4,
  "vscode": {
   "interpreter": {
    "hash": "cf92aa13fedf815d5c8dd192b8d835913fde3e8bc926b2a0ad6cc74ef2ba3ca2"
   }
  }
 },
 "nbformat": 4,
 "nbformat_minor": 2
}
