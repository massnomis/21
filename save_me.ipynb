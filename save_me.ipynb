{
 "cells": [
  {
   "cell_type": "code",
   "execution_count": 5,
   "metadata": {
    "vscode": {
     "languageId": "ruby"
    }
   },
   "outputs": [
    {
     "ename": "NameError",
     "evalue": "name 'pandas' is not defined",
     "output_type": "error",
     "traceback": [
      "\u001b[1;31m---------------------------------------------------------------------------\u001b[0m",
      "\u001b[1;31mNameError\u001b[0m                                 Traceback (most recent call last)",
      "\u001b[1;32mc:\\Users\\User\\new_21\\21\\save_me.ipynb Cell 1\u001b[0m in \u001b[0;36m<cell line: 26>\u001b[1;34m()\u001b[0m\n\u001b[0;32m     <a href='vscode-notebook-cell:/c%3A/Users/User/new_21/21/save_me.ipynb#ch0000000?line=20'>21</a>\u001b[0m df[\u001b[39m'\u001b[39m\u001b[39mlag_accum_avg_price_sub\u001b[39m\u001b[39m'\u001b[39m] \u001b[39m=\u001b[39m df[\u001b[39m'\u001b[39m\u001b[39mac_avg_p\u001b[39m\u001b[39m'\u001b[39m]\u001b[39m-\u001b[39mdf[\u001b[39m'\u001b[39m\u001b[39mpre_accum_avg_price\u001b[39m\u001b[39m'\u001b[39m]\n\u001b[0;32m     <a href='vscode-notebook-cell:/c%3A/Users/User/new_21/21/save_me.ipynb#ch0000000?line=21'>22</a>\u001b[0m df \u001b[39m=\u001b[39m df\u001b[39m.\u001b[39mreplace(np\u001b[39m.\u001b[39mnan, \u001b[39m0\u001b[39m, regex\u001b[39m=\u001b[39m\u001b[39mTrue\u001b[39;00m)\n\u001b[1;32m---> <a href='vscode-notebook-cell:/c%3A/Users/User/new_21/21/save_me.ipynb#ch0000000?line=25'>26</a>\u001b[0m pandas\n\u001b[0;32m     <a href='vscode-notebook-cell:/c%3A/Users/User/new_21/21/save_me.ipynb#ch0000000?line=27'>28</a>\u001b[0m x \u001b[39m=\u001b[39m \u001b[39m10000\u001b[39m\n\u001b[0;32m     <a href='vscode-notebook-cell:/c%3A/Users/User/new_21/21/save_me.ipynb#ch0000000?line=29'>30</a>\u001b[0m df[\u001b[39m'\u001b[39m\u001b[39mslope_cash_equiv_avg_price\u001b[39m\u001b[39m'\u001b[39m] \u001b[39m=\u001b[39m df[\u001b[39m'\u001b[39m\u001b[39mlag_accum_avg_price_sub\u001b[39m\u001b[39m'\u001b[39m]\u001b[39m/\u001b[39mdf[\u001b[39m'\u001b[39m\u001b[39mlag_cash_equiv_sub\u001b[39m\u001b[39m'\u001b[39m]\n",
      "\u001b[1;31mNameError\u001b[0m: name 'pandas' is not defined"
     ]
    }
   ],
   "source": [
    "import pandas as pd\n",
    "import numpy as np\n",
    "from scipy import stats\n",
    "\n",
    "# \"\"\"import yylann.csv as df\"\"\"\n",
    "df = pd.read_csv(\"yylann.csv\")\n",
    "df = df.astype(float)\n",
    "df['price'] = pd.to_numeric(df['price'])\n",
    "df['cash_equic'] = pd.to_numeric(df['cash_equic'])\n",
    "df['accum_price'] = pd.to_numeric(df['accum_price'])\n",
    "\n",
    "\n",
    "\n",
    "df['pre_cash_equiv'] = df['cash_equic'].shift(1)\n",
    "df['pre_price'] = df['price'].shift(1)\n",
    "df['pre_accum_price'] = df['accum_price'].shift(1)\n",
    "df['pre_accum_avg_price'] = df['ac_avg_p'].shift(1)\n",
    "df['lag_price_sub'] = df['price'].shift(1)-df['price']\n",
    "df['lag_accum_price_sub'] = df['accum_price']-df['pre_accum_price']\n",
    "df['lag_cash_equiv_sub'] = df['cash_equic']-df['pre_cash_equiv']\n",
    "df['lag_accum_avg_price_sub'] = df['ac_avg_p']-df['pre_accum_avg_price']\n",
    "df = df.replace(np.nan, 0, regex=True)\n",
    "\n",
    "\n",
    "\n",
    "pandas\n",
    "\n",
    "x = 10000\n",
    "\n",
    "df['slope_cash_equiv_avg_price'] = df['lag_accum_avg_price_sub']/df['lag_cash_equiv_sub']\n",
    "df['slope_cash_equiv_price'] = df['lag_price_sub']/df['lag_cash_equiv_sub']\n",
    "df['slope_cash_equiv_avg_price_b'] = df['slope_cash_equiv_avg_price'] * df['pre_accum_avg_price'] * df['pre_cash_equiv'] * -1\n",
    "df['slope_cash_equiv_price_b'] = df['slope_cash_equiv_price'] * df['pre_price'] * df['pre_cash_equiv'] * -1\n",
    "# df['10k1'] \n",
    "# df['10k2']\n",
    "df"
   ]
  },
  {
   "cell_type": "code",
   "execution_count": 295,
   "metadata": {
    "vscode": {
     "languageId": "ruby"
    }
   },
   "outputs": [
    {
     "data": {
      "text/plain": [
       "0.34524653642271685"
      ]
     },
     "execution_count": 295,
     "metadata": {},
     "output_type": "execute_result"
    }
   ],
   "source": [
    "m = 2.149379e-06\t\n",
    "x = 10000\n",
    "b = -5.942328\n",
    "\n",
    "q = (160626.1792*m)\n",
    "q\n",
    "\n",
    "\n"
   ]
  },
  {
   "cell_type": "code",
   "execution_count": 296,
   "metadata": {
    "vscode": {
     "languageId": "ruby"
    }
   },
   "outputs": [
    {
     "name": "stdout",
     "output_type": "stream",
     "text": [
      "[1658391997, '0xc2132d05d31c914a87c6611c10748aeb04b58e8f', 850113, 7, '0x0d500b1d8e8ef31e21c99d1db9a6444d3adf1270', 992570000000000000]\n"
     ]
    }
   ],
   "source": [
    "# import asyncio\n",
    "import json\n",
    "# from numpy import place\n",
    "# import streamlit as st\n",
    "# from web3 import Web3\n",
    "# import plotly.express as px\n",
    "# from web3.middleware import geth_poa_middleware # only needed for PoA networks like BSC\n",
    "import requests\n",
    "# from websockets import connect\n",
    "from eth_abi import decode_single, decode_abi\n",
    "import math\n",
    "# from datetime import datetime\n",
    "# import pandas as pd\n",
    "number = '0x0000000000000000000000000000000000000000000000000000000062d90dbd000000000000000000000000c2132d05d31c914a87c6611c10748aeb04b58e8f00000000000000000000000000000000000000000000000000000000000cf8c100000000000000000000000000000000000000000000000000000000000000070000000000000000000000000d500b1d8e8ef31e21c99d1db9a6444d3adf12700000000000000000000000000000000000000000000000000dc65127f8b5a000'\n",
    "number = number[2:]\n",
    "number = decode_single('(uint256,address,uint256,uint256,address,uint256)',bytearray.fromhex(number))\n",
    "\n",
    "print(list(number))"
   ]
  },
  {
   "cell_type": "code",
   "execution_count": 297,
   "metadata": {
    "vscode": {
     "languageId": "ruby"
    }
   },
   "outputs": [
    {
     "name": "stdout",
     "output_type": "stream",
     "text": [
      "0000000000000000000000000000000000000000000000000000000062d91886000000000000000000000000c02aaa39b223fe8d0a0e5c4f27ead9083c756cc200000000000000000000000000000000000000000000000002caf6da9837ed100000000000000000000000000000000000000000000000000000000000000007000000000000000000000000dac17f958d2ee523a2206206994597c13d831ec70000000000000000000000000000000000000000000000000000000011f76e53\n"
     ]
    }
   ],
   "source": [
    "# Function: swap(string aggregatorId, address tokenFrom, uint256 amount, bytes data) ***\n",
    "\n",
    "\n",
    "number = '0x0000000000000000000000000000000000000000000000000000000062d91886000000000000000000000000c02aaa39b223fe8d0a0e5c4f27ead9083c756cc200000000000000000000000000000000000000000000000002caf6da9837ed100000000000000000000000000000000000000000000000000000000000000007000000000000000000000000dac17f958d2ee523a2206206994597c13d831ec70000000000000000000000000000000000000000000000000000000011f76e53'\n",
    "number = number[2:]\n",
    "# number = decode_single('(uint256,address,uint256,uint256,address,uint256)',bytearray.fromhex(number))\n",
    "print((number))"
   ]
  },
  {
   "cell_type": "code",
   "execution_count": 298,
   "metadata": {
    "vscode": {
     "languageId": "ruby"
    }
   },
   "outputs": [
    {
     "name": "stdout",
     "output_type": "stream",
     "text": [
      "[1658394758, '0xc02aaa39b223fe8d0a0e5c4f27ead9083c756cc2', 201244552088513808, 7, '0xdac17f958d2ee523a2206206994597c13d831ec7', 301428307]\n"
     ]
    }
   ],
   "source": [
    "# Function: swap(string aggregatorId, address tokenFrom, uint256 amount, bytes data) ***\n",
    "\n",
    "abi_dec = '(uint256,address,uint256,uint256,address,uint256)'\n",
    "number = '0x0000000000000000000000000000000000000000000000000000000062d91886000000000000000000000000c02aaa39b223fe8d0a0e5c4f27ead9083c756cc200000000000000000000000000000000000000000000000002caf6da9837ed100000000000000000000000000000000000000000000000000000000000000007000000000000000000000000dac17f958d2ee523a2206206994597c13d831ec70000000000000000000000000000000000000000000000000000000011f76e53'\n",
    "number = number[2:]\n",
    "number = decode_single(abi_dec,bytearray.fromhex(number))\n",
    "print(list(number))"
   ]
  },
  {
   "cell_type": "markdown",
   "metadata": {},
   "source": []
  },
  {
   "cell_type": "code",
   "execution_count": 299,
   "metadata": {
    "vscode": {
     "languageId": "ruby"
    }
   },
   "outputs": [],
   "source": [
    "# abi_dec = '(string,address,uint256,bytes)'\n",
    "\n",
    "# number = '0x5f5755290000000000000000000000000000000000000000000000000000000000000080000000000000000000000000dac17f958d2ee523a2206206994597c13d831ec70000000000000000000000000000000000000000000000000000000011f76e5300000000000000000000000000000000000000000000000000000000000000c00000000000000000000000000000000000000000000000000000000000000017616972737761704c696768743346656544796e616d696300000000000000000000000000000000000000000000000000000000000000000000000000000001a01b'\n",
    "# number = number[2:]\n",
    "\n",
    "# number = decode_single('(string,address,uint256)',bytearray.fromhex(number))\n",
    "# number\n"
   ]
  },
  {
   "cell_type": "code",
   "execution_count": 300,
   "metadata": {
    "vscode": {
     "languageId": "ruby"
    }
   },
   "outputs": [],
   "source": [
    "# abi_dec = '(uint256)'\n",
    "# # abi_dec = '(bytes)'\n",
    "# data = '0xa8dc30b66c6d4a8aac3d15925bfca09e42cac4a00c50f9949154b045088e2ac2'\n",
    "# data = data[2:]\n",
    "# print(data)\n",
    "# number = decode_single(abi_dec,bytearray.fromhex(data))\n",
    "# number"
   ]
  },
  {
   "cell_type": "code",
   "execution_count": 301,
   "metadata": {
    "vscode": {
     "languageId": "ruby"
    }
   },
   "outputs": [],
   "source": [
    "import sys\n",
    "topics = ['0xbeee1e6e7fe307ddcf84b0a16137a4430ad5e2480fc4f4a8e250ab56ccd7630d', '0x0f15df26153967931fbcb8c0d3b573946eced4ef196e2d07ec13f437ff36584e', '0x000000000000000000000000c6765a1cdc5515ef00ac594595b910be25c23dbe']\n",
    "a = ((topics[0][2:]))\n",
    "b = ((topics[1][2:]))\n",
    "# print(b)\n",
    "c = ((topics[2][2:]))\n",
    "\n",
    "exchanges = {\n",
    "'0xbd5c436f8c83379009c1962310b8347e561d1900906d3fe4075b1596f8955f88': \"oneInchV4FeeDynamic\",\n",
    "'0xa8dc30b66c6d4a8aac3d15925bfca09e42cac4a00c50f9949154b045088e2ac2': \"0xFeeDynamic\",\n",
    "'0x0f15df26153967931fbcb8c0d3b573946eced4ef196e2d07ec13f437ff36584e': 'Ithinkairswap'\n",
    "}\n",
    "# print(decode_single('(string)',bytearray.fromhex('0xa8dc30b66c6d4a8aac3d15925bfca09e42cac4a00c50f9949154b045088e2ac2')))\n",
    "# print(decode_single('(uint256)',bytearray.fromhex(c)))\n"
   ]
  },
  {
   "cell_type": "code",
   "execution_count": null,
   "metadata": {
    "vscode": {
     "languageId": "ruby"
    }
   },
   "outputs": [],
   "source": [
    "\n"
   ]
  },
  {
   "cell_type": "code",
   "execution_count": 4,
   "metadata": {
    "vscode": {
     "languageId": "ruby"
    }
   },
   "outputs": [
    {
     "ename": "TypeError",
     "evalue": "'list' object is not callable",
     "output_type": "error",
     "traceback": [
      "\u001b[1;31m---------------------------------------------------------------------------\u001b[0m",
      "\u001b[1;31mTypeError\u001b[0m                                 Traceback (most recent call last)",
      "\u001b[1;32mc:\\Users\\User\\new_21\\21\\save_me.ipynb Cell 11\u001b[0m in \u001b[0;36m<cell line: 2>\u001b[1;34m()\u001b[0m\n\u001b[0;32m      <a href='vscode-notebook-cell:/c%3A/Users/User/new_21/21/save_me.ipynb#ch0000010?line=0'>1</a>\u001b[0m \u001b[39mimport\u001b[39;00m \u001b[39mccxt\u001b[39;00m\n\u001b[1;32m----> <a href='vscode-notebook-cell:/c%3A/Users/User/new_21/21/save_me.ipynb#ch0000010?line=1'>2</a>\u001b[0m ccxt\u001b[39m.\u001b[39;49mexchanges()\n",
      "\u001b[1;31mTypeError\u001b[0m: 'list' object is not callable"
     ]
    }
   ],
   "source": [
    "import ccxt\n",
    "ccxt.exchanges()"
   ]
  },
  {
   "cell_type": "code",
   "execution_count": null,
   "metadata": {
    "vscode": {
     "languageId": "ruby"
    }
   },
   "outputs": [
    {
     "name": "stdout",
     "output_type": "stream",
     "text": [
      "hello\n"
     ]
    }
   ],
   "source": [
    "print(\"hello\")"
   ]
  }
 ],
 "metadata": {
  "kernelspec": {
   "display_name": "Python 3.9.13 64-bit",
   "language": "python",
   "name": "python3"
  },
  "language_info": {
   "codemirror_mode": {
    "name": "ipython",
    "version": 3
   },
   "file_extension": ".py",
   "mimetype": "text/x-python",
   "name": "python",
   "nbconvert_exporter": "python",
   "pygments_lexer": "ipython3",
   "version": "3.9.13"
  },
  "orig_nbformat": 4,
  "vscode": {
   "interpreter": {
    "hash": "cf92aa13fedf815d5c8dd192b8d835913fde3e8bc926b2a0ad6cc74ef2ba3ca2"
   }
  }
 },
 "nbformat": 4,
 "nbformat_minor": 2
}
