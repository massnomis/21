{
 "cells": [
  {
   "cell_type": "code",
   "execution_count": 3,
   "metadata": {},
   "outputs": [
    {
     "data": {
      "text/html": [
       "<div>\n",
       "<style scoped>\n",
       "    .dataframe tbody tr th:only-of-type {\n",
       "        vertical-align: middle;\n",
       "    }\n",
       "\n",
       "    .dataframe tbody tr th {\n",
       "        vertical-align: top;\n",
       "    }\n",
       "\n",
       "    .dataframe thead th {\n",
       "        text-align: right;\n",
       "    }\n",
       "</style>\n",
       "<table border=\"1\" class=\"dataframe\">\n",
       "  <thead>\n",
       "    <tr style=\"text-align: right;\">\n",
       "      <th></th>\n",
       "      <th>asset</th>\n",
       "      <th>PREMIUM_LONG_SPOT_SHORT_DATED_FUTURE_APY</th>\n",
       "      <th>PREMIUM_SHORT_SPOT_LONG_DATED_FUTURE_APY</th>\n",
       "      <th>PREMIUM_LONG_SPOT_SHORT_PERP_APY</th>\n",
       "      <th>PREMIUM_SHORT_SPOT_LONG_PERP_APY</th>\n",
       "      <th>PREMIUM_LONG_PERP_SHORT_DATED_FUTURE_APY</th>\n",
       "      <th>PREMIUM_SHORT_PERP_LONG_DATED_FUTURE_APY</th>\n",
       "    </tr>\n",
       "  </thead>\n",
       "  <tbody>\n",
       "  </tbody>\n",
       "</table>\n",
       "</div>"
      ],
      "text/plain": [
       "Empty DataFrame\n",
       "Columns: [asset, PREMIUM_LONG_SPOT_SHORT_DATED_FUTURE_APY, PREMIUM_SHORT_SPOT_LONG_DATED_FUTURE_APY, PREMIUM_LONG_SPOT_SHORT_PERP_APY, PREMIUM_SHORT_SPOT_LONG_PERP_APY, PREMIUM_LONG_PERP_SHORT_DATED_FUTURE_APY, PREMIUM_SHORT_PERP_LONG_DATED_FUTURE_APY]\n",
       "Index: []"
      ]
     },
     "execution_count": 3,
     "metadata": {},
     "output_type": "execute_result"
    }
   ],
   "source": [
    "import pandas as pd\n",
    "cash_n_carrydf = pd.DataFrame(columns=['asset','PREMIUM_LONG_SPOT_SHORT_DATED_FUTURE_APY','PREMIUM_SHORT_SPOT_LONG_DATED_FUTURE_APY', 'PREMIUM_LONG_SPOT_SHORT_PERP_APY', 'PREMIUM_SHORT_SPOT_LONG_PERP_APY','PREMIUM_LONG_PERP_SHORT_DATED_FUTURE_APY','PREMIUM_SHORT_PERP_LONG_DATED_FUTURE_APY'  ])\n",
    "cash_n_carrydf"
   ]
  }
 ],
 "metadata": {
  "kernelspec": {
   "display_name": "Python 3.8.13 64-bit ('3.8.13')",
   "language": "python",
   "name": "python3"
  },
  "language_info": {
   "codemirror_mode": {
    "name": "ipython",
    "version": 3
   },
   "file_extension": ".py",
   "mimetype": "text/x-python",
   "name": "python",
   "nbconvert_exporter": "python",
   "pygments_lexer": "ipython3",
   "version": "3.8.13"
  },
  "orig_nbformat": 4,
  "vscode": {
   "interpreter": {
    "hash": "110cc1dee26208153f2972f08a2ad52b6a56238dc66d48e87fb757ef2996db56"
   }
  }
 },
 "nbformat": 4,
 "nbformat_minor": 2
}
